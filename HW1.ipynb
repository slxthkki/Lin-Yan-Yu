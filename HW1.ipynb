{
 "cells": [
  {
   "cell_type": "code",
   "execution_count": null,
   "id": "ae783e17",
   "metadata": {},
   "outputs": [],
   "source": []
  },
  {
   "cell_type": "code",
   "execution_count": 3,
   "id": "a8ffe6fe",
   "metadata": {},
   "outputs": [
    {
     "data": {
      "text/html": [
       "<div>\n",
       "<style scoped>\n",
       "    .dataframe tbody tr th:only-of-type {\n",
       "        vertical-align: middle;\n",
       "    }\n",
       "\n",
       "    .dataframe tbody tr th {\n",
       "        vertical-align: top;\n",
       "    }\n",
       "\n",
       "    .dataframe thead th {\n",
       "        text-align: right;\n",
       "    }\n",
       "</style>\n",
       "<table border=\"1\" class=\"dataframe\">\n",
       "  <thead>\n",
       "    <tr style=\"text-align: right;\">\n",
       "      <th></th>\n",
       "      <th>年度</th>\n",
       "      <th>地區別</th>\n",
       "      <th>月投保薪資等級</th>\n",
       "      <th>投保人數</th>\n",
       "    </tr>\n",
       "  </thead>\n",
       "  <tbody>\n",
       "    <tr>\n",
       "      <th>0</th>\n",
       "      <td>2022</td>\n",
       "      <td>宜蘭縣</td>\n",
       "      <td>25250</td>\n",
       "      <td>82681</td>\n",
       "    </tr>\n",
       "    <tr>\n",
       "      <th>1</th>\n",
       "      <td>2022</td>\n",
       "      <td>宜蘭縣</td>\n",
       "      <td>26400</td>\n",
       "      <td>3470</td>\n",
       "    </tr>\n",
       "    <tr>\n",
       "      <th>2</th>\n",
       "      <td>2022</td>\n",
       "      <td>宜蘭縣</td>\n",
       "      <td>27600</td>\n",
       "      <td>4415</td>\n",
       "    </tr>\n",
       "    <tr>\n",
       "      <th>3</th>\n",
       "      <td>2022</td>\n",
       "      <td>宜蘭縣</td>\n",
       "      <td>28800</td>\n",
       "      <td>3755</td>\n",
       "    </tr>\n",
       "    <tr>\n",
       "      <th>4</th>\n",
       "      <td>2022</td>\n",
       "      <td>宜蘭縣</td>\n",
       "      <td>30300</td>\n",
       "      <td>7071</td>\n",
       "    </tr>\n",
       "    <tr>\n",
       "      <th>...</th>\n",
       "      <td>...</td>\n",
       "      <td>...</td>\n",
       "      <td>...</td>\n",
       "      <td>...</td>\n",
       "    </tr>\n",
       "    <tr>\n",
       "      <th>195</th>\n",
       "      <td>2022</td>\n",
       "      <td>基隆市</td>\n",
       "      <td>28800</td>\n",
       "      <td>1895</td>\n",
       "    </tr>\n",
       "    <tr>\n",
       "      <th>196</th>\n",
       "      <td>2022</td>\n",
       "      <td>基隆市</td>\n",
       "      <td>30300</td>\n",
       "      <td>4794</td>\n",
       "    </tr>\n",
       "    <tr>\n",
       "      <th>197</th>\n",
       "      <td>2022</td>\n",
       "      <td>基隆市</td>\n",
       "      <td>31800</td>\n",
       "      <td>1864</td>\n",
       "    </tr>\n",
       "    <tr>\n",
       "      <th>198</th>\n",
       "      <td>2022</td>\n",
       "      <td>基隆市</td>\n",
       "      <td>33300</td>\n",
       "      <td>2379</td>\n",
       "    </tr>\n",
       "    <tr>\n",
       "      <th>199</th>\n",
       "      <td>2022</td>\n",
       "      <td>基隆市</td>\n",
       "      <td>34800</td>\n",
       "      <td>3561</td>\n",
       "    </tr>\n",
       "  </tbody>\n",
       "</table>\n",
       "<p>200 rows × 4 columns</p>\n",
       "</div>"
      ],
      "text/plain": [
       "       年度  地區別  月投保薪資等級   投保人數\n",
       "0    2022  宜蘭縣    25250  82681\n",
       "1    2022  宜蘭縣    26400   3470\n",
       "2    2022  宜蘭縣    27600   4415\n",
       "3    2022  宜蘭縣    28800   3755\n",
       "4    2022  宜蘭縣    30300   7071\n",
       "..    ...  ...      ...    ...\n",
       "195  2022  基隆市    28800   1895\n",
       "196  2022  基隆市    30300   4794\n",
       "197  2022  基隆市    31800   1864\n",
       "198  2022  基隆市    33300   2379\n",
       "199  2022  基隆市    34800   3561\n",
       "\n",
       "[200 rows x 4 columns]"
      ]
     },
     "execution_count": 3,
     "metadata": {},
     "output_type": "execute_result"
    }
   ],
   "source": [
    "import pandas as pd\n",
    "\n",
    "df_Insurance = pd.read_csv(\"df.csv\")\n",
    "df_Insurance.head(200)"
   ]
  },
  {
   "cell_type": "code",
   "execution_count": 4,
   "id": "3fb2cd99",
   "metadata": {},
   "outputs": [
    {
     "data": {
      "text/plain": [
       "163660"
      ]
     },
     "execution_count": 4,
     "metadata": {},
     "output_type": "execute_result"
    }
   ],
   "source": [
    "#找出宜蘭縣總投保人數\n",
    "\n",
    "total_number = df_Insurance[df_Insurance['地區別'] == \"宜蘭縣\"]['投保人數'].sum()\n",
    "total_number"
   ]
  },
  {
   "cell_type": "code",
   "execution_count": 5,
   "id": "c305fa56",
   "metadata": {},
   "outputs": [],
   "source": [
    "n = [\"臺北市\", \"新北市\", \"基隆市\", \"桃園縣\", \"新竹縣\"]\n",
    "c = [\"苗栗縣\", \"臺中市\", \"雲林縣\", \"南投縣\", \"彰化縣\"]\n",
    "s = [\"雲林縣\", \"嘉義縣\", \"臺南市\", \"高雄市\", \"屏東市\"]"
   ]
  },
  {
   "cell_type": "code",
   "execution_count": 6,
   "id": "6498f61c",
   "metadata": {},
   "outputs": [
    {
     "name": "stdout",
     "output_type": "stream",
     "text": [
      "4425411\n"
     ]
    }
   ],
   "source": [
    "#北部地區總投保人數\n",
    "\n",
    "result = df_Insurance['地區別'].isin(n)\n",
    "northArea = df_Insurance[result]\n",
    "total_north = northArea['投保人數'].sum()\n",
    "print(total_north)"
   ]
  },
  {
   "cell_type": "code",
   "execution_count": 10,
   "id": "437092b6",
   "metadata": {},
   "outputs": [
    {
     "name": "stdout",
     "output_type": "stream",
     "text": [
      "地區別\n",
      "其他        3407\n",
      "南投縣     141059\n",
      "嘉義市     124011\n",
      "嘉義縣     122465\n",
      "基隆市     109040\n",
      "宜蘭縣     163660\n",
      "屏東縣     225145\n",
      "彰化縣     466913\n",
      "新北市    1547217\n",
      "新竹市     421192\n",
      "新竹縣     293939\n",
      "桃園市    1036031\n",
      "澎湖縣      33138\n",
      "臺中市    1338467\n",
      "臺北市    2475215\n",
      "臺南市     797819\n",
      "臺東縣      48551\n",
      "花蓮縣      96192\n",
      "苗栗縣     166866\n",
      "連江縣       3121\n",
      "金門縣      22088\n",
      "雲林縣     234207\n",
      "高雄市    1175363\n",
      "Name: 投保人數, dtype: int64\n"
     ]
    }
   ],
   "source": [
    "#各地區投保人數分布\n",
    "\n",
    "total_by_area = df_Insurance.groupby('地區別')['投保人數'].sum()\n",
    "print(total_by_area)\n"
   ]
  },
  {
   "cell_type": "code",
   "execution_count": 13,
   "id": "e49a9edb",
   "metadata": {},
   "outputs": [
    {
     "name": "stdout",
     "output_type": "stream",
     "text": [
      "地區別\n",
      "其他       271.0\n",
      "南投縣     3558.5\n",
      "嘉義市     2092.5\n",
      "嘉義縣     2620.0\n",
      "基隆市     2089.5\n",
      "宜蘭縣     3450.5\n",
      "屏東縣     5054.0\n",
      "彰化縣    10657.0\n",
      "新北市    40881.5\n",
      "新竹市     9711.5\n",
      "新竹縣     7995.5\n",
      "桃園市    26365.5\n",
      "澎湖縣      363.5\n",
      "臺中市    34746.5\n",
      "臺北市    67687.5\n",
      "臺南市    19779.5\n",
      "臺東縣     1199.0\n",
      "花蓮縣     2161.5\n",
      "苗栗縣     4485.0\n",
      "連江縣       63.5\n",
      "金門縣      341.5\n",
      "雲林縣     4432.5\n",
      "高雄市    30220.0\n",
      "Name: 投保人數, dtype: float64\n"
     ]
    }
   ],
   "source": [
    "#各地區投保人數的中位數\n",
    "\n",
    "median_by_area = df_Insurance.groupby('地區別')['投保人數'].median()\n",
    "print(median_by_area)\n"
   ]
  },
  {
   "cell_type": "code",
   "execution_count": 15,
   "id": "214798ca",
   "metadata": {},
   "outputs": [
    {
     "name": "stdout",
     "output_type": "stream",
     "text": [
      "地區別\n",
      "其他        826.014407\n",
      "南投縣     13256.263652\n",
      "嘉義市     13583.831160\n",
      "嘉義縣     11433.653045\n",
      "基隆市     10430.577055\n",
      "宜蘭縣     16448.008979\n",
      "屏東縣     23347.607028\n",
      "彰化縣     48220.509655\n",
      "新北市    113550.284481\n",
      "新竹市     29327.088304\n",
      "新竹縣     16273.004501\n",
      "桃園市     69117.261653\n",
      "澎湖縣      3904.108040\n",
      "臺中市    112117.111141\n",
      "臺北市    131559.341864\n",
      "臺南市     68711.961554\n",
      "臺東縣      4773.177827\n",
      "花蓮縣      8999.242113\n",
      "苗栗縣     13244.679349\n",
      "連江縣       249.298578\n",
      "金門縣      1998.529713\n",
      "雲林縣     24045.239576\n",
      "高雄市     96291.948779\n",
      "Name: 投保人數, dtype: float64\n"
     ]
    }
   ],
   "source": [
    "#各地區投保人數的標準差\n",
    "\n",
    "std_by_area = df_Insurance.groupby('地區別')['投保人數'].std()\n",
    "print(std_by_area)\n"
   ]
  },
  {
   "cell_type": "code",
   "execution_count": 16,
   "id": "9209fc1a",
   "metadata": {},
   "outputs": [
    {
     "name": "stdout",
     "output_type": "stream",
     "text": [
      "投保人數最多的地區是 臺北市\n"
     ]
    }
   ],
   "source": [
    "#投保人數最多的地區\n",
    "\n",
    "max_by_area = df_Insurance.groupby('地區別')['投保人數'].sum().idxmax()\n",
    "print(f\"投保人數最多的地區是 {max_by_area}\")\n"
   ]
  },
  {
   "cell_type": "code",
   "execution_count": 17,
   "id": "ceccce60",
   "metadata": {},
   "outputs": [
    {
     "name": "stdout",
     "output_type": "stream",
     "text": [
      "月投保薪資等級和投保人數的相關係數為 -0.16\n"
     ]
    }
   ],
   "source": [
    "#月投保薪資等級和投保人數的相關係數\n",
    "\n",
    "corr = df_Insurance['月投保薪資等級'].corr(df_Insurance['投保人數'])\n",
    "print(f\"月投保薪資等級和投保人數的相關係數為 {corr:.2f}\")\n"
   ]
  },
  {
   "cell_type": "code",
   "execution_count": 18,
   "id": "ec42b022",
   "metadata": {},
   "outputs": [
    {
     "name": "stdout",
     "output_type": "stream",
     "text": [
      "平均月投保薪資等級最大的地區是 南投縣\n"
     ]
    }
   ],
   "source": [
    "#平均月投保薪資等級最大的地區\n",
    "\n",
    "avg_salary_by_area = df_Insurance.groupby('地區別')['月投保薪資等級'].mean()\n",
    "max_avg_salary_area = avg_salary_by_area.idxmax()\n",
    "print(f\"平均月投保薪資等級最大的地區是 {max_avg_salary_area}\")\n"
   ]
  },
  {
   "cell_type": "code",
   "execution_count": 19,
   "id": "8908193f",
   "metadata": {},
   "outputs": [
    {
     "name": "stdout",
     "output_type": "stream",
     "text": [
      "地區別\n",
      "其他     25250\n",
      "南投縣    25250\n",
      "嘉義市    25250\n",
      "嘉義縣    25250\n",
      "基隆市    25250\n",
      "宜蘭縣    25250\n",
      "屏東縣    25250\n",
      "彰化縣    25250\n",
      "新北市    25250\n",
      "新竹市    25250\n",
      "新竹縣    25250\n",
      "桃園市    25250\n",
      "澎湖縣    25250\n",
      "臺中市    25250\n",
      "臺北市    25250\n",
      "臺南市    25250\n",
      "臺東縣    25250\n",
      "花蓮縣    25250\n",
      "苗栗縣    25250\n",
      "連江縣    25250\n",
      "金門縣    25250\n",
      "雲林縣    25250\n",
      "高雄市    25250\n",
      "Name: 月投保薪資等級, dtype: int64\n"
     ]
    }
   ],
   "source": [
    "#找出每個地區最常見的投保薪資等級\n",
    "\n",
    "most_common_salary_by_area = df_Insurance.groupby('地區別')['月投保薪資等級'].apply(lambda x: x.value_counts().index[0])\n",
    "print(most_common_salary_by_area)\n"
   ]
  },
  {
   "cell_type": "code",
   "execution_count": 20,
   "id": "0d5ce4f4",
   "metadata": {},
   "outputs": [
    {
     "name": "stdout",
     "output_type": "stream",
     "text": [
      "總投保人數為 11045106\n"
     ]
    }
   ],
   "source": [
    "#2022年度總投保人數\n",
    "\n",
    "total_number = df_Insurance['投保人數'].sum()\n",
    "print(f\"總投保人數為 {total_number}\")\n"
   ]
  },
  {
   "cell_type": "code",
   "execution_count": null,
   "id": "0b780ab6",
   "metadata": {},
   "outputs": [],
   "source": []
  }
 ],
 "metadata": {
  "kernelspec": {
   "display_name": "Python 3 (ipykernel)",
   "language": "python",
   "name": "python3"
  },
  "language_info": {
   "codemirror_mode": {
    "name": "ipython",
    "version": 3
   },
   "file_extension": ".py",
   "mimetype": "text/x-python",
   "name": "python",
   "nbconvert_exporter": "python",
   "pygments_lexer": "ipython3",
   "version": "3.9.13"
  }
 },
 "nbformat": 4,
 "nbformat_minor": 5
}
