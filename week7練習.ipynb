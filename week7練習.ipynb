{
 "cells": [
  {
   "cell_type": "code",
   "execution_count": 1,
   "id": "95ec9104",
   "metadata": {},
   "outputs": [],
   "source": [
    "import requests \n",
    "import json\n",
    "import time\n",
    "from time import sleep\n",
    "import pandas as pd "
   ]
  },
  {
   "cell_type": "code",
   "execution_count": 28,
   "id": "15594011",
   "metadata": {},
   "outputs": [],
   "source": [
    "### 裁判家網址：https://www.lawplus.com.tw/\n",
    "### 關鍵字：全文搜索：車禍 交通事故 一審判決\n",
    "### URL:https://www.lawplus.com.tw/#/searchReport?query=%25E8%25BB%258A%25E7%25A6%258D%2520%25E4%25BA%25A4%25E9%2580%259A%25E4%25BA%258B%25E6%2595%2585%2520%25E4%25B8%2580%25E5%25AF%25A9%25E5%2588%25A4%25E6%25B1%25BA"
   ]
  },
  {
   "cell_type": "code",
   "execution_count": 35,
   "id": "6b2eadf9",
   "metadata": {},
   "outputs": [],
   "source": [
    "urlfirst=\"https://www.lawplus.com.tw/rest/search/report?querySentence=%E8%BB%8A%E7%A6%8D\""
   ]
  },
  {
   "cell_type": "code",
   "execution_count": 37,
   "id": "c519248d",
   "metadata": {},
   "outputs": [
    {
     "data": {
      "text/plain": [
       "'https://www.lawplus.com.tw/rest/search/report?querySentence=%E8%BB%8A%E7%A6%8D1)'"
      ]
     },
     "execution_count": 37,
     "metadata": {},
     "output_type": "execute_result"
    }
   ],
   "source": [
    "#&page=1\n",
    "page = \"1\"\n",
    "link = urlfirst + page + ')'\n",
    "link"
   ]
  },
  {
   "cell_type": "code",
   "execution_count": 38,
   "id": "d5a622f8",
   "metadata": {},
   "outputs": [
    {
     "name": "stderr",
     "output_type": "stream",
     "text": [
      "C:\\Users\\user\\anaconda3\\lib\\site-packages\\urllib3\\connectionpool.py:1045: InsecureRequestWarning: Unverified HTTPS request is being made to host 'www.lawplus.com.tw'. Adding certificate verification is strongly advised. See: https://urllib3.readthedocs.io/en/1.26.x/advanced-usage.html#ssl-warnings\n",
      "  warnings.warn(\n"
     ]
    }
   ],
   "source": [
    "res = requests.get(urlfirst,verify=False)"
   ]
  },
  {
   "cell_type": "code",
   "execution_count": 39,
   "id": "95502646",
   "metadata": {},
   "outputs": [
    {
     "data": {
      "text/plain": [
       "<Response [200]>"
      ]
     },
     "execution_count": 39,
     "metadata": {},
     "output_type": "execute_result"
    }
   ],
   "source": [
    "res"
   ]
  },
  {
   "cell_type": "code",
   "execution_count": 40,
   "id": "030f1c07",
   "metadata": {},
   "outputs": [
    {
     "data": {
      "text/plain": [
       "{'page': 1,\n",
       " 'records': 310754,\n",
       " 'rows': [{'caseNum': '95,國,2',\n",
       "   'caseType': 'V',\n",
       "   'content': '臺灣宜蘭地方法院民事判決\\u3000\\u3000\\u3000\\u3000\\u3000\\u3000\\u3000\\u3000 95年度國字第2號\\r\\n原\\u3000\\u3000\\u3000告\\u3000乙○○\\r\\n訴訟代理人\\u3000楊德海律師\\r\\n被\\u3000\\u3000\\u3000告\\u3000宜蘭縣警察局\\r\\n法定代理人\\u3000丙○○\\r\\n訴訟代理人\\u3000陳為祥律師\\r\\n上列當事人間...',\n",
       "   'court': '',\n",
       "   'identifier': 'ILDV,95,國,2,20070413,2-2e707cf8-bee6-40b6-935e-db8bd1670965',\n",
       "   'issue': '國家賠償',\n",
       "   'jtype': 'J',\n",
       "   'judgeDate': '2007/04/13',\n",
       "   'litigant': None,\n",
       "   'tags': None,\n",
       "   'title': 'ILDV,95,國,2,20070413,2-2e707cf8-bee6-40b6-935e-db8bd1670965',\n",
       "   'type': '民事判決'},\n",
       "  {'caseNum': '90,交易,9',\n",
       "   'caseType': 'M',\n",
       "   'content': '臺灣花蓮地方法院刑事判決\\u3000\\u3000\\u3000\\u3000\\u3000\\u3000\\u3000\\u3000\\u3000\\u3000\\u3000\\u3000\\u3000\\u3000\\u3000九十年度交易字第九號\\r\\n\\u3000\\u3000公\\u3000訴\\u3000人\\u3000臺灣花蓮地方法院檢察署檢察官\\r\\n\\u3000\\u3000被\\u3000\\u3000\\u3000告\\u3000甲○○\\r\\n\\u3000\\u3000選任辯護人\\u3000陳清華\\r\\n右列被告因過失傷害案件...',\n",
       "   'court': '',\n",
       "   'identifier': 'HLDM,90,交易,9,20011004,1-2665a27e-e4ae-4d00-aaaf-1381a2da1176',\n",
       "   'issue': '過失傷害',\n",
       "   'jtype': 'J',\n",
       "   'judgeDate': '2001/10/04',\n",
       "   'litigant': None,\n",
       "   'tags': None,\n",
       "   'title': 'HLDM,90,交易,9,20011004,1-2665a27e-e4ae-4d00-aaaf-1381a2da1176',\n",
       "   'type': '刑事判決'},\n",
       "  {'caseNum': '106,訴緝,64',\n",
       "   'caseType': 'M',\n",
       "   'content': '臺灣高雄地方法院刑事判決\\u3000\\u3000\\u3000\\u3000\\u3000\\u3000 106年度訴緝字第64號\\r\\n公\\u3000訴\\u3000人\\u3000臺灣高雄地方法院檢察署檢察官\\r\\n被\\u3000\\u3000\\u3000告\\u3000彭時習\\r\\n上列被告因偽造文書等案件，經檢察官提起公訴（103 年度偵字\\r\\n第2...',\n",
       "   'court': '',\n",
       "   'identifier': 'KSDM,106,訴緝,64,20171115,1-e8335d46-0cda-4081-b2bf-8622bf7cec1f',\n",
       "   'issue': '偽造文書等',\n",
       "   'jtype': 'J',\n",
       "   'judgeDate': '2017/11/15',\n",
       "   'litigant': None,\n",
       "   'tags': None,\n",
       "   'title': 'KSDM,106,訴緝,64,20171115,1-e8335d46-0cda-4081-b2bf-8622bf7cec1f',\n",
       "   'type': '刑事判決'},\n",
       "  {'caseNum': '101,板小,375',\n",
       "   'caseType': 'V',\n",
       "   'content': '臺灣板橋地方法院板橋簡易庭小額民事判決\\r\\n\\u3000\\u3000\\u3000\\u3000\\u3000\\u3000\\u3000\\u3000\\u3000\\u3000\\u3000\\u3000\\u3000\\u3000\\u3000\\u3000\\u3000\\u3000101年度板小字第375號\\r\\n原\\u3000\\u3000\\u3000告\\u3000黃竹南\\r\\n被\\u3000\\u3000\\u3000告\\u3000李裕添\\r\\n訴訟代理人\\u3000李忠偉\\r\\n法定代理人\\u3000呂奇峰\\r\\n訴訟...',\n",
       "   'court': '',\n",
       "   'identifier': 'PCEV,101,板小,375,20120724,1-6ebc12f4-5100-4ffb-b4fe-779d393f369f',\n",
       "   'issue': '侵權行為損害賠償',\n",
       "   'jtype': 'J',\n",
       "   'judgeDate': '2012/07/24',\n",
       "   'litigant': None,\n",
       "   'tags': None,\n",
       "   'title': 'PCEV,101,板小,375,20120724,1-6ebc12f4-5100-4ffb-b4fe-779d393f369f',\n",
       "   'type': '民事判決'},\n",
       "  {'caseNum': '94,交訴,56',\n",
       "   'caseType': 'M',\n",
       "   'content': '臺灣板橋地方法院刑事判決\\u3000\\u3000\\u3000\\u3000\\u3000\\u3000\\u300094年度交訴字第56號\\r\\n公\\u3000訴\\u3000人\\u3000臺灣板橋地方法院檢察署檢察官\\r\\n被\\u3000\\u3000\\u3000告\\u3000甲○○\\r\\n選任辯護人\\u3000黃景安律師\\r\\n上列被告因過失致死案件，經檢察官提起公訴（九...',\n",
       "   'court': '',\n",
       "   'identifier': 'PCDM,94,交訴,56,20060227,1-6ef1fcae-cc6b-4447-b03e-25e834a37240',\n",
       "   'issue': '過失致死',\n",
       "   'jtype': 'J',\n",
       "   'judgeDate': '2006/02/27',\n",
       "   'litigant': None,\n",
       "   'tags': None,\n",
       "   'title': 'PCDM,94,交訴,56,20060227,1-6ef1fcae-cc6b-4447-b03e-25e834a37240',\n",
       "   'type': '刑事判決'},\n",
       "  {'caseNum': '107,上易,163',\n",
       "   'caseType': 'V',\n",
       "   'content': '臺灣高等法院臺南分院民事判決\\u3000107年度上易字第163號\\u3000\\u3000\\u3000\\u3000\\u3000\\u3000\\u3000\\u3000\\u3000\\u3000\\u3000\\u3000\\u3000\\u3000\\u3000\\u3000\\u3000\\u3000\\u3000\\u3000\\u3000\\u3000\\u3000\\u3000\\u3000\\u3000\\u3000\\u3000\\u3000\\u3000\\u3000\\u3000\\u3000\\u3000\\u3000\\u3000\\u3000\\u3000\\u3000\\u3000\\u3000\\r\\n上\\u3000訴\\u3000人\\u3000葉宏斌\\u3000\\r\\n輔\\u3000佐\\u3000人\\u3000朱乾龍\\u3000\\r\\n被上訴人\\u3000...',\n",
       "   'court': '',\n",
       "   'identifier': 'TNHV,107,上易,163,20190115,1-8f0fe7f8-e024-45a5-93fe-f86c16aa1a30',\n",
       "   'issue': '損害賠償',\n",
       "   'jtype': 'J',\n",
       "   'judgeDate': '2019/01/15',\n",
       "   'litigant': None,\n",
       "   'tags': None,\n",
       "   'title': 'TNHV,107,上易,163,20190115,1-8f0fe7f8-e024-45a5-93fe-f86c16aa1a30',\n",
       "   'type': '民事判決'},\n",
       "  {'caseNum': '94,交訴,43',\n",
       "   'caseType': 'M',\n",
       "   'content': '臺灣士林地方法院刑事判決\\u3000\\u3000\\u3000\\u3000\\u3000\\u3000\\u300094年度交訴字第43號\\r\\n公\\u3000訴\\u3000人\\u3000臺灣士林地方法院檢察署檢察官\\r\\n被\\u3000\\u3000\\u3000告\\u3000丙○○\\r\\n選任辯護人\\u3000施習盛律師\\r\\n上列被告因業務過失致死案件，經檢察官提起公訴...',\n",
       "   'court': '',\n",
       "   'identifier': 'SLDM,94,交訴,43,20060828,1-9651c73e-70b0-43be-ba8a-b98c8cf28572',\n",
       "   'issue': '業務過失致死',\n",
       "   'jtype': 'J',\n",
       "   'judgeDate': '2006/08/28',\n",
       "   'litigant': None,\n",
       "   'tags': None,\n",
       "   'title': 'SLDM,94,交訴,43,20060828,1-9651c73e-70b0-43be-ba8a-b98c8cf28572',\n",
       "   'type': '刑事判決'},\n",
       "  {'caseNum': '102,訴,614',\n",
       "   'caseType': 'V',\n",
       "   'content': '臺灣高雄地方法院民事判決\\u3000\\u3000\\u3000\\u3000\\u3000\\u3000\\u3000102年度訴字第614號\\r\\n原\\u3000\\u3000\\u3000告\\u3000劉棗鈴\\r\\n訴訟代理人\\u3000歐陽志宏律師\\r\\n被\\u3000\\u3000\\u3000告\\u3000陳○○\\r\\n兼\\u3000\\r\\n法定代理人\\u3000周○○\\r\\n共\\u3000\\u3000\\u3000同\\r\\n訴訟代理人\\u3000邱揚勝...',\n",
       "   'court': '',\n",
       "   'identifier': 'KSDV,102,訴,614,20130731,1-6a5704b4-f9f9-49e0-afdf-bba615b7a0a2',\n",
       "   'issue': '損害賠償',\n",
       "   'jtype': 'J',\n",
       "   'judgeDate': '2013/07/31',\n",
       "   'litigant': None,\n",
       "   'tags': None,\n",
       "   'title': 'KSDV,102,訴,614,20130731,1-6a5704b4-f9f9-49e0-afdf-bba615b7a0a2',\n",
       "   'type': '民事判決'},\n",
       "  {'caseNum': '99,訴,302',\n",
       "   'caseType': 'V',\n",
       "   'content': '臺灣新竹地方法院民事判決\\u3000\\u3000\\u3000\\u3000\\u3000\\u3000\\u3000 99年度訴字第302號\\r\\n原\\u3000\\u3000\\u3000告\\u3000陳怡妃\\r\\n訴訟代理人\\u3000任秀妍律師\\r\\n複\\u3000代理人\\u3000李宜蓁\\r\\n被\\u3000\\u3000\\u3000告\\u3000彭紀如\\r\\n訴訟代理人\\u3000路春鴻律師\\r\\n\\u3000\\u3000\\u3000\\u3000\\u3000\\u3000黃淑...',\n",
       "   'court': '',\n",
       "   'identifier': 'SCDV,99,訴,302,20111125,1-7ddf716d-36ba-46e9-9e8e-b36b5e3380bf',\n",
       "   'issue': '損害賠償',\n",
       "   'jtype': 'J',\n",
       "   'judgeDate': '2011/11/25',\n",
       "   'litigant': None,\n",
       "   'tags': None,\n",
       "   'title': 'SCDV,99,訴,302,20111125,1-7ddf716d-36ba-46e9-9e8e-b36b5e3380bf',\n",
       "   'type': '民事判決'},\n",
       "  {'caseNum': '109,訴,37',\n",
       "   'caseType': 'V',\n",
       "   'content': '臺灣雲林地方法院民事判決\\u3000\\u3000\\u3000\\u3000\\u3000\\u3000\\u3000 109年度訴字第37號\\r\\n原\\u3000\\u3000\\u3000告\\u3000張美宏\\u3000\\r\\n\\r\\n訴訟代理人\\u3000李建忠律師\\r\\n被\\u3000\\u3000\\u3000告\\u3000劉俊伯\\u3000\\r\\n訴訟代理人\\u3000廖元應律師\\r\\n上列當事人間請求損害賠償事件，...',\n",
       "   'court': '',\n",
       "   'identifier': 'ULDV,109,訴,37,20201019,1-4f8ca13b-5cee-40ab-9ad0-d401d2ab8317',\n",
       "   'issue': '損害賠償',\n",
       "   'jtype': 'J',\n",
       "   'judgeDate': '2020/10/19',\n",
       "   'litigant': None,\n",
       "   'tags': None,\n",
       "   'title': 'ULDV,109,訴,37,20201019,1-4f8ca13b-5cee-40ab-9ad0-d401d2ab8317',\n",
       "   'type': '民事判決'}],\n",
       " 'total': 31076,\n",
       " 'userdata': {'series': [{'name': '2021', 'y': 4501},\n",
       "   {'name': '2020', 'y': 21127},\n",
       "   {'name': '2019', 'y': 23438},\n",
       "   {'name': '2018', 'y': 24097},\n",
       "   {'name': '2017', 'y': 23471},\n",
       "   {'name': '2016', 'y': 21824},\n",
       "   {'name': '2015', 'y': 19075},\n",
       "   {'name': '2014', 'y': 18650},\n",
       "   {'name': '2013', 'y': 16085},\n",
       "   {'name': '2012', 'y': 15185},\n",
       "   {'name': '2011', 'y': 12980},\n",
       "   {'name': '2010', 'y': 11495},\n",
       "   {'name': '2009', 'y': 10913},\n",
       "   {'name': '2008', 'y': 10497},\n",
       "   {'name': '2007', 'y': 10629},\n",
       "   {'name': '2006', 'y': 10297},\n",
       "   {'name': '2005', 'y': 8753},\n",
       "   {'name': '2004', 'y': 8739},\n",
       "   {'name': '2003', 'y': 10032},\n",
       "   {'name': '2002', 'y': 10136},\n",
       "   {'name': '2001', 'y': 10092},\n",
       "   {'name': '2000', 'y': 8695},\n",
       "   {'name': '1999', 'y': 12},\n",
       "   {'name': '1998', 'y': 31}],\n",
       "  'categories': ['2021',\n",
       "   '2020',\n",
       "   '2019',\n",
       "   '2018',\n",
       "   '2017',\n",
       "   '2016',\n",
       "   '2015',\n",
       "   '2014',\n",
       "   '2013',\n",
       "   '2012',\n",
       "   '2011',\n",
       "   '2010',\n",
       "   '2009',\n",
       "   '2008',\n",
       "   '2007',\n",
       "   '2006',\n",
       "   '2005',\n",
       "   '2004',\n",
       "   '2003',\n",
       "   '2002',\n",
       "   '2001',\n",
       "   '2000',\n",
       "   '1999',\n",
       "   '1998']}}"
      ]
     },
     "execution_count": 40,
     "metadata": {},
     "output_type": "execute_result"
    }
   ],
   "source": [
    "data = json.loads(res.text)\n",
    "data"
   ]
  },
  {
   "cell_type": "code",
   "execution_count": 45,
   "id": "94330657",
   "metadata": {},
   "outputs": [
    {
     "data": {
      "text/plain": [
       "'https://www.lawplus.com.tw/rest/search/report?querySentence=%E6%A0%A1%E5%9C%921)'"
      ]
     },
     "execution_count": 45,
     "metadata": {},
     "output_type": "execute_result"
    }
   ],
   "source": [
    "### 裁判家網址：https://www.lawplus.com.tw/\n",
    "### 關鍵字：全文搜索：校園\n",
    "### URL:https://www.lawplus.com.tw/#/searchReport?query=%25E6%25A0%25A1%25E5%259C%2592\n",
    "\n",
    "urlfirst=\"https://www.lawplus.com.tw/rest/search/report?querySentence=%E6%A0%A1%E5%9C%92\"\n",
    "#&page=1\n",
    "page = \"1\"\n",
    "link = urlfirst + page + ')'\n",
    "link"
   ]
  },
  {
   "cell_type": "code",
   "execution_count": 46,
   "id": "b8400791",
   "metadata": {},
   "outputs": [
    {
     "data": {
      "text/plain": [
       "'https://www.lawplus.com.tw/rest/search/report?querySentence=%E6%A0%A1%E5%9C%921)'"
      ]
     },
     "execution_count": 46,
     "metadata": {},
     "output_type": "execute_result"
    }
   ],
   "source": [
    "link"
   ]
  },
  {
   "cell_type": "code",
   "execution_count": 44,
   "id": "40b6168f",
   "metadata": {},
   "outputs": [
    {
     "name": "stderr",
     "output_type": "stream",
     "text": [
      "C:\\Users\\user\\anaconda3\\lib\\site-packages\\urllib3\\connectionpool.py:1045: InsecureRequestWarning: Unverified HTTPS request is being made to host 'www.lawplus.com.tw'. Adding certificate verification is strongly advised. See: https://urllib3.readthedocs.io/en/1.26.x/advanced-usage.html#ssl-warnings\n",
      "  warnings.warn(\n"
     ]
    },
    {
     "data": {
      "text/plain": [
       "{'page': 1,\n",
       " 'records': 40213,\n",
       " 'rows': [{'caseNum': '100,竹簡,778',\n",
       "   'caseType': 'M',\n",
       "   'content': '臺灣新竹地方法院刑事簡易判決\\u3000\\u3000 100年度竹簡字第778號\\r\\n聲\\u3000請\\u3000人\\u3000臺灣新竹地方法院檢察署檢察官\\r\\n被\\u3000\\u3000\\u3000告\\u3000伍坤財\\r\\n上列被告因侵入住宅案件，經檢察官聲請以簡易判決處刑（100\\r\\n年度偵字...',\n",
       "   'court': '',\n",
       "   'identifier': 'SCDM,100,竹簡,778,20110905,1-2deaa39b-f439-4772-b1b2-fe3fc1d7d385',\n",
       "   'issue': '侵入住宅',\n",
       "   'jtype': 'J',\n",
       "   'judgeDate': '2011/09/05',\n",
       "   'litigant': None,\n",
       "   'tags': None,\n",
       "   'title': 'SCDM,100,竹簡,778,20110905,1-2deaa39b-f439-4772-b1b2-fe3fc1d7d385',\n",
       "   'type': '刑事判決'},\n",
       "  {'caseNum': '106,北簡,6282',\n",
       "   'caseType': 'V',\n",
       "   'content': '臺灣臺北地方法院民事簡易判決\\r\\n\\u3000\\u3000\\u3000\\u3000\\u3000\\u3000\\u3000\\u3000\\u3000\\u3000\\u3000\\u3000\\u3000\\u3000\\u3000\\u3000\\u3000 106年度北簡字第6282號\\r\\n原\\u3000\\u3000\\u3000告\\u3000林○○\\u3000\\r\\n法定代理人\\u3000李明錦\\u3000\\r\\n兼\\r\\n訴訟代理人\\u3000林冠宏\\u3000\\r\\n被\\u3000\\u3000\\u3000告\\u3000蔡一鳴\\u3000\\r...',\n",
       "   'court': '',\n",
       "   'identifier': 'TPEV,106,北簡,6282,20180131,1-842f6a4d-ceb5-4258-b539-57c52aa5beed',\n",
       "   'issue': '侵權行為損害賠償',\n",
       "   'jtype': 'J',\n",
       "   'judgeDate': '2018/01/31',\n",
       "   'litigant': None,\n",
       "   'tags': None,\n",
       "   'title': 'TPEV,106,北簡,6282,20180131,1-842f6a4d-ceb5-4258-b539-57c52aa5beed',\n",
       "   'type': '民事判決'},\n",
       "  {'caseNum': '99,上易,216',\n",
       "   'caseType': 'M',\n",
       "   'content': '臺灣高等法院臺中分院刑事判決\\u3000\\u3000\\u3000\\u3000 99年度上易字第216號\\r\\n上\\u3000訴\\u3000人\\u3000臺灣臺中地方法院檢察署檢察官\\r\\n被\\u3000\\u3000\\u3000告\\u3000丙○○\\r\\n選任辯護人\\u3000顧念妮律師\\r\\n被\\u3000\\u3000\\u3000告\\u3000甲○○\\r\\n選任辯護人\\u3000許桂挺律...',\n",
       "   'court': '',\n",
       "   'identifier': 'TCHM,99,上易,216,20100408,1-b048081e-021f-4930-87bf-e57531fab7e8',\n",
       "   'issue': '過失致死',\n",
       "   'jtype': 'J',\n",
       "   'judgeDate': '2010/04/08',\n",
       "   'litigant': None,\n",
       "   'tags': None,\n",
       "   'title': 'TCHM,99,上易,216,20100408,1-b048081e-021f-4930-87bf-e57531fab7e8',\n",
       "   'type': '刑事判決'},\n",
       "  {'caseNum': '106,訴,1310',\n",
       "   'caseType': 'A',\n",
       "   'content': '臺北高等行政法院判決\\r\\n                                     106年度訴字第1310號\\r\\n                                    ...',\n",
       "   'court': '',\n",
       "   'identifier': 'TPBA,106,訴,1310,20180301,1-6bb512b9-6e7a-4010-8b65-bdf97586c3f2',\n",
       "   'issue': '申請閱覽卷宗',\n",
       "   'jtype': 'J',\n",
       "   'judgeDate': '2018/03/01',\n",
       "   'litigant': None,\n",
       "   'tags': None,\n",
       "   'title': 'TPBA,106,訴,1310,20180301,1-6bb512b9-6e7a-4010-8b65-bdf97586c3f2',\n",
       "   'type': '行政判決'},\n",
       "  {'caseNum': '102,訴,1933',\n",
       "   'caseType': 'A',\n",
       "   'content': '臺北高等行政法院判決\\r\\n                                     102年度訴字第1933號\\r\\n                                    ...',\n",
       "   'court': '',\n",
       "   'identifier': 'TPBA,102,訴,1933,20140423,1-948d4711-de9f-4992-a5e7-6e480af455ba',\n",
       "   'issue': '年資',\n",
       "   'jtype': 'J',\n",
       "   'judgeDate': '2014/04/23',\n",
       "   'litigant': None,\n",
       "   'tags': None,\n",
       "   'title': 'TPBA,102,訴,1933,20140423,1-948d4711-de9f-4992-a5e7-6e480af455ba',\n",
       "   'type': '行政判決'},\n",
       "  {'caseNum': '107,簡上,125',\n",
       "   'caseType': 'V',\n",
       "   'content': '臺灣臺北地方法院民事判決\\u3000\\u3000\\u3000\\u3000\\u3000\\u3000107年度簡上字第125號\\r\\n上\\u3000訴\\u3000人\\u3000林○○\\u3000\\r\\n法定代理人\\u3000李○錦\\u3000\\r\\n法定代理人兼\\r\\n訴訟代理人\\u3000林○宏\\u3000\\r\\n被上訴人\\u3000\\u3000蔡一鳴\\u3000\\r\\n\\u3000\\u3000\\u3000\\u3000\\u3000\\u3000吳孟憲\\u3000\\r...',\n",
       "   'court': '',\n",
       "   'identifier': 'TPDV,107,簡上,125,20181114,1-01a15153-e9b2-443c-8d11-d9585fe2483b',\n",
       "   'issue': '損害賠償',\n",
       "   'jtype': 'J',\n",
       "   'judgeDate': '2018/11/14',\n",
       "   'litigant': None,\n",
       "   'tags': None,\n",
       "   'title': 'TPDV,107,簡上,125,20181114,1-01a15153-e9b2-443c-8d11-d9585fe2483b',\n",
       "   'type': '民事判決'},\n",
       "  {'caseNum': '109,訴,336',\n",
       "   'caseType': 'A',\n",
       "   'content': '臺北高等行政法院裁定\\r\\n                                      109年度訴字第336號\\r\\n原      告\\u3000蔡佩桓\\r\\n訴訟代理人\\u3000張玉希\\u3000律師\\r\\n被      告...',\n",
       "   'court': '',\n",
       "   'identifier': 'TPBA,109,訴,336,20201231,1-15903df3-3ca6-4cd9-9ba0-aed83fd59689',\n",
       "   'issue': '有關教育事務',\n",
       "   'jtype': 'R',\n",
       "   'judgeDate': '2020/12/31',\n",
       "   'litigant': None,\n",
       "   'tags': None,\n",
       "   'title': 'TPBA,109,訴,336,20201231,1-15903df3-3ca6-4cd9-9ba0-aed83fd59689',\n",
       "   'type': '行政裁定'},\n",
       "  {'caseNum': '106,新國簡,1',\n",
       "   'caseType': 'V',\n",
       "   'content': '臺灣臺南地方法院新市簡易庭民事判決\\u3000106年度新國簡字第1號\\r\\n原\\u3000\\u3000\\u3000告\\u3000國立台南大學附屬啟聰學校\\r\\n法定代理人\\u3000陳秀雅\\r\\n訴訟代理人\\u3000陳忠勝律師\\r\\n被\\u3000\\u3000\\u3000告\\u3000林細貞\\r\\n\\u3000\\u3000\\u3000\\u3000\\u3000\\u3000黃清煌\\r\\n\\u3000\\u3000...',\n",
       "   'court': '',\n",
       "   'identifier': 'SSEV,106,新國簡,1,20180716,1-70aa2dc9-49c7-47f9-8dcb-cab3d0cb3754',\n",
       "   'issue': '國家賠償',\n",
       "   'jtype': 'J',\n",
       "   'judgeDate': '2018/07/16',\n",
       "   'litigant': None,\n",
       "   'tags': None,\n",
       "   'title': 'SSEV,106,新國簡,1,20180716,1-70aa2dc9-49c7-47f9-8dcb-cab3d0cb3754',\n",
       "   'type': '民事判決'},\n",
       "  {'caseNum': '93,訴,289',\n",
       "   'caseType': 'A',\n",
       "   'content': '高雄高等行政法院裁定\\u3000\\u3000\\u3000\\u3000\\u3000\\u3000\\u3000\\u3000\\u3000\\u3000\\u3000\\u3000\\u3000\\u3000\\u3000九十三年度訴字第二八九號\\r\\n\\u3000\\u3000原\\u3000\\u3000\\u3000告\\u3000甲○○\\r\\n\\u3000\\u3000被\\u3000\\u3000\\u3000告\\u3000高雄市前金區建國國民小學\\r\\n\\u3000\\u3000代\\u3000表\\u3000人\\u3000乙○○校長\\r\\n右當事人間因有關教育事...',\n",
       "   'court': '',\n",
       "   'identifier': 'KSBA,93,訴,289,20040531,1-420113a4-795d-4481-bfd7-b9636d916211',\n",
       "   'issue': '有關教育事務',\n",
       "   'jtype': 'R',\n",
       "   'judgeDate': '2004/05/31',\n",
       "   'litigant': None,\n",
       "   'tags': None,\n",
       "   'title': 'KSBA,93,訴,289,20040531,1-420113a4-795d-4481-bfd7-b9636d916211',\n",
       "   'type': '行政裁定'},\n",
       "  {'caseNum': '92,訴,157',\n",
       "   'caseType': 'A',\n",
       "   'content': '臺中高等行政法院判決\\u3000\\u3000\\u3000\\u3000\\u3000\\u3000\\u3000\\u3000\\u3000\\u3000\\u3000\\u3000\\u3000\\u3000\\u3000九十二年度訴字第一五七號\\r\\n\\u3000\\u3000\\u3000\\u3000\\u3000\\u3000\\u3000\\u3000\\u3000\\u3000\\u3000\\u3000\\u3000\\u3000\\u3000\\r\\n\\u3000\\u3000原\\u3000\\u3000\\u3000告\\u3000甲○○\\r\\n\\u3000\\u3000被\\u3000\\u3000\\u3000告\\u3000南投縣政府\\r\\n\\u3000\\u3000代\\u3000表\\u3000人\\u3000乙○○\\r\\n\\u3000\\u3000訴...',\n",
       "   'court': '',\n",
       "   'identifier': 'TCBA,92,訴,157,20030513,1-6b262418-e8a4-40a3-b595-0a3ec47da9fb',\n",
       "   'issue': '退休',\n",
       "   'jtype': 'J',\n",
       "   'judgeDate': '2003/05/13',\n",
       "   'litigant': None,\n",
       "   'tags': None,\n",
       "   'title': 'TCBA,92,訴,157,20030513,1-6b262418-e8a4-40a3-b595-0a3ec47da9fb',\n",
       "   'type': '行政判決'}],\n",
       " 'total': 4022,\n",
       " 'userdata': {'series': [{'name': '2021', 'y': 759},\n",
       "   {'name': '2020', 'y': 3954},\n",
       "   {'name': '2019', 'y': 3601},\n",
       "   {'name': '2018', 'y': 3548},\n",
       "   {'name': '2017', 'y': 3531},\n",
       "   {'name': '2016', 'y': 3344},\n",
       "   {'name': '2015', 'y': 2055},\n",
       "   {'name': '2014', 'y': 2675},\n",
       "   {'name': '2013', 'y': 2094},\n",
       "   {'name': '2012', 'y': 2229},\n",
       "   {'name': '2011', 'y': 2026},\n",
       "   {'name': '2010', 'y': 1426},\n",
       "   {'name': '2009', 'y': 1256},\n",
       "   {'name': '2008', 'y': 1207},\n",
       "   {'name': '2007', 'y': 1178},\n",
       "   {'name': '2006', 'y': 950},\n",
       "   {'name': '2005', 'y': 811},\n",
       "   {'name': '2004', 'y': 734},\n",
       "   {'name': '2003', 'y': 806},\n",
       "   {'name': '2002', 'y': 719},\n",
       "   {'name': '2001', 'y': 611},\n",
       "   {'name': '2000', 'y': 504},\n",
       "   {'name': '1999', 'y': 123},\n",
       "   {'name': '1998', 'y': 72}],\n",
       "  'categories': ['2021',\n",
       "   '2020',\n",
       "   '2019',\n",
       "   '2018',\n",
       "   '2017',\n",
       "   '2016',\n",
       "   '2015',\n",
       "   '2014',\n",
       "   '2013',\n",
       "   '2012',\n",
       "   '2011',\n",
       "   '2010',\n",
       "   '2009',\n",
       "   '2008',\n",
       "   '2007',\n",
       "   '2006',\n",
       "   '2005',\n",
       "   '2004',\n",
       "   '2003',\n",
       "   '2002',\n",
       "   '2001',\n",
       "   '2000',\n",
       "   '1999',\n",
       "   '1998']}}"
      ]
     },
     "execution_count": 44,
     "metadata": {},
     "output_type": "execute_result"
    }
   ],
   "source": [
    "res = requests.get(urlfirst,verify=False)\n",
    "res\n",
    "data = json.loads(res.text)\n",
    "data"
   ]
  },
  {
   "cell_type": "code",
   "execution_count": 41,
   "id": "808913b5",
   "metadata": {},
   "outputs": [
    {
     "data": {
      "text/plain": [
       "'https://www.lawplus.com.tw/rest/search/report?querySentence=(%E8%BB%8A%E7%A6%8D%2B%E4%BA%A4%E9%80%9A%E4%BA%8B%E6%95%85)%26(%E6%B0%91%E6%B3%95%E7%AC%AC217%2B%E9%81%8E%E5%A4%B1%E6%AF%94%E4%BE%8B)&keyword=(%E8%BB%8A%E7%A6%8D%2B%E4%BA%A4%E9%80%9A%E4%BA%8B%E6%95%85)%26(%E6%B0%91%E6%B3%95%E7%AC%AC217%2B%E9%81%8E%E5%A4%B1%E6%AF%94%E4%BE%8B)&prevKeyword=(%E8%BB%8A%E7%A6%8D%2B%E4%BA%A4%E9%80%9A%E4%BA%8B%E6%95%85)%26(%E6%B0%91%E6%B3%95%E7%AC%AC217%2B%E9%81%8E%E5%A4%B1%E6%AF%94%E4%BE%8B)&date=2012%2F05%2F16~2022%2F05%2F16&money=&sentence=&caseNum=&caseTypes=&courts=&levels=1&jtypes=&tags=&issue=&main=&judge=&judgeTypes=&lawyer=&litigant=&prosecutor=&clerk=&rows=10&page=1&sortField=&_=1652714083801'"
      ]
     },
     "execution_count": 41,
     "metadata": {},
     "output_type": "execute_result"
    }
   ],
   "source": [
    "urlfirst = \"https://www.lawplus.com.tw/rest/search/report?querySentence=(%E8%BB%8A%E7%A6%8D%2B%E4%BA%A4%E9%80%9A%E4%BA%8B%E6%95%85)%26(%E6%B0%91%E6%B3%95%E7%AC%AC217%2B%E9%81%8E%E5%A4%B1%E6%AF%94%E4%BE%8B)&keyword=(%E8%BB%8A%E7%A6%8D%2B%E4%BA%A4%E9%80%9A%E4%BA%8B%E6%95%85)%26(%E6%B0%91%E6%B3%95%E7%AC%AC217%2B%E9%81%8E%E5%A4%B1%E6%AF%94%E4%BE%8B)&prevKeyword=(%E8%BB%8A%E7%A6%8D%2B%E4%BA%A4%E9%80%9A%E4%BA%8B%E6%95%85)%26(%E6%B0%91%E6%B3%95%E7%AC%AC217%2B%E9%81%8E%E5%A4%B1%E6%AF%94%E4%BE%8B)&date=2012%2F05%2F16~2022%2F05%2F16&money=&sentence=&caseNum=&caseTypes=&courts=&levels=1&jtypes=&tags=&issue=&main=&judge=&judgeTypes=&lawyer=&litigant=&prosecutor=&clerk=&rows=10&page=\"\n",
    "urlsec = \"&sortField=&_=1652714083801\"\n",
    "link = urlfirst + str(page) + urlsec\n",
    "link"
   ]
  },
  {
   "cell_type": "code",
   "execution_count": null,
   "id": "da486798",
   "metadata": {},
   "outputs": [],
   "source": []
  }
 ],
 "metadata": {
  "kernelspec": {
   "display_name": "Python 3 (ipykernel)",
   "language": "python",
   "name": "python3"
  },
  "language_info": {
   "codemirror_mode": {
    "name": "ipython",
    "version": 3
   },
   "file_extension": ".py",
   "mimetype": "text/x-python",
   "name": "python",
   "nbconvert_exporter": "python",
   "pygments_lexer": "ipython3",
   "version": "3.9.13"
  }
 },
 "nbformat": 4,
 "nbformat_minor": 5
}
