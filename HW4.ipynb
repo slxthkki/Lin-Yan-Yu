{
 "cells": [
  {
   "cell_type": "code",
   "execution_count": 2,
   "id": "b1baf30b",
   "metadata": {},
   "outputs": [],
   "source": [
    "import requests\n",
    "from bs4 import BeautifulSoup\n",
    "import time\n",
    "from time import sleep"
   ]
  },
  {
   "cell_type": "code",
   "execution_count": null,
   "id": "1eb80212",
   "metadata": {},
   "outputs": [],
   "source": [
    "#找出蘇打綠的歌曲中最常出現的詞彙\n",
    "import requests\n",
    "from bs4 import BeautifulSoup\n",
    "import time\n",
    "from time import sleep\n",
    "#列出魔鏡歌詞網中蘇打綠的歌的網址\n",
    "#避開重複的曲目\n",
    "\n",
    "link = []\n",
    "\n",
    "for i in range(1, 28):\n",
    "    if i == 26 or 25 or 23 or 20 or 15:\n",
    "        link.append('https://mojim.com/twy104616x{i}x1.htm')\n",
    "    elif i == 7:\n",
    "        link.append('https://mojim.com/twy104616x7x1.htm')\n",
    "        link.append('https://mojim.com/twy104616x7x2.htm')\n",
    "    elif i == 8:\n",
    "        link.append('https://mojim.com/twy104616x8x5.htm')\n",
    "        link.append('https://mojim.com/twy104616x8x11.htm')\n",
    "    elif i == 2:\n",
    "        link.append('https://mojim.com/twy104616x2x1.htm')\n",
    "        link.append('https://mojim.com/twy104616x2x2.htm')\n",
    "        link.append('https://mojim.com/twy104616x2x3.htm')\n",
    "    elif i == 27:\n",
    "        link.append('https://mojim.com/twy104616x27x4.htm')\n",
    "        link.append('https://mojim.com/twy104616x27x6.htm')\n",
    "        link.append('https://mojim.com/twy104616x27x7.htm')\n",
    "        link.append('https://mojim.com/twy104616x27x8.htm')\n",
    "    elif i == 5:\n",
    "        link.append('https://mojim.com/twy104616x5x3.htm')\n",
    "    elif i == 16:\n",
    "        link.append('https://mojim.com/twy104616x16x2.htm')\n",
    "    elif i == 24 or 22:\n",
    "        for j in range(1, 16):\n",
    "            link.append(f'https://mojim.com/twy104616x{i}x{j}.htm')\n",
    "    elif i == 19:\n",
    "        for j in range(1, 17):\n",
    "            link.append(f'https://mojim.com/twy104616x{i}x{j}.htm')\n",
    "    elif i == 14 or 11 or 4 or 1:\n",
    "        for j in range(1, 12):\n",
    "            link.append(f'https://mojim.com/twy104616x{i}x{j}.htm')\n",
    "    elif i == 12:\n",
    "        for j in range(1, 15):\n",
    "            link.append(f'https://mojim.com/twy104616x{i}x{j}.htm')\n",
    "    elif i == 6:\n",
    "        for j in range(1, 11):\n",
    "            link.append(f'https://mojim.com/twy104616x{i}x{j}.htm')\n",
    "    elif i == 10:\n",
    "        for j in range(1, 13):\n",
    "            link.append(f'https://mojim.com/twy104616x{i}x{j}.htm')\n",
    "\n",
    "head = {\n",
    "    'User-Agent': 'Mozilla/5.0 (Windows NT 10.0; Win64; x64) AppleWebKit/537.36 (KHTML, like Gecko) Chrome/111.0.0.0 Safari/537.36'\n",
    "}\n",
    "\n",
    "\n",
    "for url in link:\n",
    "    response = requests.get(url, headers=head)\n",
    "    if response.status_code == 200:\n",
    "        soup = BeautifulSoup(response.text, 'html.parser')\n",
    "\n",
    "for url in link:  \n",
    "    response = requests.get(url, headers=head)\n",
    "    soup = BeautifulSoup(response.text, 'html.parser')\n",
    "    tag_div = soup.find_all('div', {'id': 'fsZ', 'class': 'fsZ'})\n",
    "    for div in tag_div:\n",
    "        tag_dl = div.find_all('dl', {'id': 'fsZx1', 'class': 'fsZx1'})     \n",
    "\n",
    "print(tag_dl)"
   ]
  },
  {
   "cell_type": "code",
   "execution_count": null,
   "id": "e8b635ec",
   "metadata": {},
   "outputs": [],
   "source": [
    "import csv\n",
    "\n",
    "data = []\n",
    "for url in link:\n",
    "    response = requests.get(url, headers=head)\n",
    "    soup = BeautifulSoup(response.text, 'html.parser')\n",
    "    tag_div = soup.find_all('div', {'id': 'fsZ', 'class': 'fsZ'})\n",
    "    for div in tag_div:\n",
    "        tag_dl = div.find_all('dl', {'id': 'fsZx1', 'class': 'fsZx1'})\n",
    "        for dl in tag_dl:\n",
    "            data.append([dt.text.strip() for dt in dl.find_all('dt')]) #歌名\n",
    "            data.append([dd.text.strip() for dd in dl.find_all('dd')]) #歌詞\n",
    "\n",
    "#打開csv檔寫入資料\n",
    "with open('data.csv', 'w', newline='', encoding='utf-8') as csvfile:\n",
    "    writer = csv.writer(csvfile)\n",
    "    writer.writerow(['songs']) #寫入檔案的標頭\n",
    "    writer.writerows(data) "
   ]
  },
  {
   "cell_type": "code",
   "execution_count": 13,
   "id": "99aaed0b",
   "metadata": {},
   "outputs": [],
   "source": [
    "import pandas as pd\n",
    "import jieba \n",
    "import jieba.analyse\n",
    "from collections import Counter"
   ]
  },
  {
   "cell_type": "code",
   "execution_count": 14,
   "id": "197fd067",
   "metadata": {},
   "outputs": [
    {
     "data": {
      "text/html": [
       "<div>\n",
       "<style scoped>\n",
       "    .dataframe tbody tr th:only-of-type {\n",
       "        vertical-align: middle;\n",
       "    }\n",
       "\n",
       "    .dataframe tbody tr th {\n",
       "        vertical-align: top;\n",
       "    }\n",
       "\n",
       "    .dataframe thead th {\n",
       "        text-align: right;\n",
       "    }\n",
       "</style>\n",
       "<table border=\"1\" class=\"dataframe\">\n",
       "  <thead>\n",
       "    <tr style=\"text-align: right;\">\n",
       "      <th></th>\n",
       "      <th>songs</th>\n",
       "    </tr>\n",
       "  </thead>\n",
       "  <tbody>\n",
       "  </tbody>\n",
       "</table>\n",
       "</div>"
      ],
      "text/plain": [
       "Empty DataFrame\n",
       "Columns: [songs]\n",
       "Index: []"
      ]
     },
     "execution_count": 14,
     "metadata": {},
     "output_type": "execute_result"
    }
   ],
   "source": [
    "sodagreen = pd.read_csv('data.csv')\n",
    "sodagreen.head()"
   ]
  },
  {
   "cell_type": "code",
   "execution_count": 15,
   "id": "7ca48fcd",
   "metadata": {},
   "outputs": [
    {
     "name": "stderr",
     "output_type": "stream",
     "text": [
      "Building prefix dict from the default dictionary ...\n",
      "Dumping model to file cache C:\\Users\\user\\AppData\\Local\\Temp\\jieba.cache\n",
      "Loading model cost 0.739 seconds.\n",
      "Prefix dict has been built successfully.\n"
     ]
    },
    {
     "name": "stdout",
     "output_type": "stream",
     "text": [
      "蘇打/綠/於/2004/年/出道\n"
     ]
    }
   ],
   "source": [
    "#test jieba\n",
    "document = ['蘇打綠於2004年出道']\n",
    "for sentence in document:\n",
    "    seg_list = jieba.cut(sentence) \n",
    "    print('/'.join(seg_list)) "
   ]
  },
  {
   "cell_type": "code",
   "execution_count": 16,
   "id": "93a71473",
   "metadata": {},
   "outputs": [
    {
     "data": {
      "text/html": [
       "<div>\n",
       "<style scoped>\n",
       "    .dataframe tbody tr th:only-of-type {\n",
       "        vertical-align: middle;\n",
       "    }\n",
       "\n",
       "    .dataframe tbody tr th {\n",
       "        vertical-align: top;\n",
       "    }\n",
       "\n",
       "    .dataframe thead th {\n",
       "        text-align: right;\n",
       "    }\n",
       "</style>\n",
       "<table border=\"1\" class=\"dataframe\">\n",
       "  <thead>\n",
       "    <tr style=\"text-align: right;\">\n",
       "      <th></th>\n",
       "      <th>songs</th>\n",
       "      <th>seg</th>\n",
       "    </tr>\n",
       "  </thead>\n",
       "  <tbody>\n",
       "  </tbody>\n",
       "</table>\n",
       "</div>"
      ],
      "text/plain": [
       "Empty DataFrame\n",
       "Columns: [songs, seg]\n",
       "Index: []"
      ]
     },
     "execution_count": 16,
     "metadata": {},
     "output_type": "execute_result"
    }
   ],
   "source": [
    "sodagreen['seg'] = '' \n",
    "sodagreen.head()"
   ]
  },
  {
   "cell_type": "code",
   "execution_count": null,
   "id": "7b255fce",
   "metadata": {},
   "outputs": [],
   "source": []
  }
 ],
 "metadata": {
  "kernelspec": {
   "display_name": "Python 3 (ipykernel)",
   "language": "python",
   "name": "python3"
  },
  "language_info": {
   "codemirror_mode": {
    "name": "ipython",
    "version": 3
   },
   "file_extension": ".py",
   "mimetype": "text/x-python",
   "name": "python",
   "nbconvert_exporter": "python",
   "pygments_lexer": "ipython3",
   "version": "3.9.13"
  }
 },
 "nbformat": 4,
 "nbformat_minor": 5
}
